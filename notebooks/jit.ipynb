{
 "cells": [
  {
   "cell_type": "markdown",
   "metadata": {},
   "source": [
    "# Play with JAX jitting"
   ]
  },
  {
   "cell_type": "code",
   "execution_count": 34,
   "metadata": {},
   "outputs": [
    {
     "name": "stdout",
     "output_type": "stream",
     "text": [
      "[0.75250584 0.0755428  0.17195134]\n"
     ]
    },
    {
     "data": {
      "text/plain": [
       "Array([0., 1., 0., 2., 2., 1., 0., 0., 0., 1., 1., 1., 0., 2., 0., 1., 0.,\n",
       "       0., 0., 0., 0., 0., 0., 0., 1., 0., 2., 0., 2., 0., 0., 1., 1., 2.,\n",
       "       2., 2., 0., 1., 0., 1., 1., 2., 1., 2., 1., 2., 2., 2., 1., 2., 0.,\n",
       "       0., 1., 0., 0., 2., 0., 1., 0., 1., 2., 1., 1., 2., 0., 2., 2., 0.,\n",
       "       0., 0., 0., 2., 2., 0., 2., 1., 1., 2., 2., 0., 0., 2., 0., 1., 2.,\n",
       "       0., 1., 2., 0., 0., 0., 1., 2., 1., 1., 2., 0., 2., 2., 2.],      dtype=float32)"
      ]
     },
     "execution_count": 34,
     "metadata": {},
     "output_type": "execute_result"
    }
   ],
   "source": [
    "import jax\n",
    "import jax.numpy as jnp\n",
    "import functools\n",
    "\n",
    "sample_logits = jax.nn.softmax(jax.random.normal(jax.random.PRNGKey(0), (3)))\n",
    "print(sample_logits)\n",
    "\n",
    "@functools.partial(jax.jit, static_argnums=(1))\n",
    "def generate(logits, length, x, key):\n",
    "    for i in range(length):\n",
    "        key, rngs = jax.random.split(key)\n",
    "        next_token = jax.random.categorical(rngs, logits)\n",
    "        x = jnp.append(x, next_token)\n",
    "    return x\n",
    "\n",
    "        \n",
    "generate(sample_logits, 100, jnp.empty((0,)), jax.random.PRNGKey(12))"
   ]
  }
 ],
 "metadata": {
  "kernelspec": {
   "display_name": "Python 3",
   "language": "python",
   "name": "python3"
  },
  "language_info": {
   "codemirror_mode": {
    "name": "ipython",
    "version": 3
   },
   "file_extension": ".py",
   "mimetype": "text/x-python",
   "name": "python",
   "nbconvert_exporter": "python",
   "pygments_lexer": "ipython3",
   "version": "3.12.7"
  }
 },
 "nbformat": 4,
 "nbformat_minor": 2
}
